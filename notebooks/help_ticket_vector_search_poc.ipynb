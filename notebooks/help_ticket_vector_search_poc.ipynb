{
  "nbformat": 4,
  "nbformat_minor": 0,
  "metadata": {
    "colab": {
      "provenance": [],
      "mount_file_id": "1a4c4C4IFz3i1hsTZNfeKRPzCTgiHToHI",
      "authorship_tag": "ABX9TyOLsYtyM6Ww1iw8S5UrV3XE",
      "include_colab_link": true
    },
    "kernelspec": {
      "name": "python3",
      "display_name": "Python 3"
    },
    "language_info": {
      "name": "python"
    },
    "widgets": {
      "application/vnd.jupyter.widget-state+json": {
        "c1c2e780e8aa431e990f544708ae1edf": {
          "model_module": "@jupyter-widgets/controls",
          "model_name": "HBoxModel",
          "model_module_version": "1.5.0",
          "state": {
            "_dom_classes": [],
            "_model_module": "@jupyter-widgets/controls",
            "_model_module_version": "1.5.0",
            "_model_name": "HBoxModel",
            "_view_count": null,
            "_view_module": "@jupyter-widgets/controls",
            "_view_module_version": "1.5.0",
            "_view_name": "HBoxView",
            "box_style": "",
            "children": [
              "IPY_MODEL_f2d36ec38ee048928acda726f383464a",
              "IPY_MODEL_54168e93ec154593ad3c7341da21cd3a",
              "IPY_MODEL_c460d5a1fd08443088984778444fcd32"
            ],
            "layout": "IPY_MODEL_4aeaf48f33c845ac987a147b9be59368"
          }
        },
        "f2d36ec38ee048928acda726f383464a": {
          "model_module": "@jupyter-widgets/controls",
          "model_name": "HTMLModel",
          "model_module_version": "1.5.0",
          "state": {
            "_dom_classes": [],
            "_model_module": "@jupyter-widgets/controls",
            "_model_module_version": "1.5.0",
            "_model_name": "HTMLModel",
            "_view_count": null,
            "_view_module": "@jupyter-widgets/controls",
            "_view_module_version": "1.5.0",
            "_view_name": "HTMLView",
            "description": "",
            "description_tooltip": null,
            "layout": "IPY_MODEL_9ebb9b654b1c47caa31128d16e8a0554",
            "placeholder": "​",
            "style": "IPY_MODEL_a3302ea61cbd40d4a4bc19a8e73ec4a3",
            "value": "Batches: 100%"
          }
        },
        "54168e93ec154593ad3c7341da21cd3a": {
          "model_module": "@jupyter-widgets/controls",
          "model_name": "FloatProgressModel",
          "model_module_version": "1.5.0",
          "state": {
            "_dom_classes": [],
            "_model_module": "@jupyter-widgets/controls",
            "_model_module_version": "1.5.0",
            "_model_name": "FloatProgressModel",
            "_view_count": null,
            "_view_module": "@jupyter-widgets/controls",
            "_view_module_version": "1.5.0",
            "_view_name": "ProgressView",
            "bar_style": "success",
            "description": "",
            "description_tooltip": null,
            "layout": "IPY_MODEL_bae0598149b0402688fd8e08f4418619",
            "max": 941,
            "min": 0,
            "orientation": "horizontal",
            "style": "IPY_MODEL_07a754cc801c447bb42a79e54ba6afdd",
            "value": 941
          }
        },
        "c460d5a1fd08443088984778444fcd32": {
          "model_module": "@jupyter-widgets/controls",
          "model_name": "HTMLModel",
          "model_module_version": "1.5.0",
          "state": {
            "_dom_classes": [],
            "_model_module": "@jupyter-widgets/controls",
            "_model_module_version": "1.5.0",
            "_model_name": "HTMLModel",
            "_view_count": null,
            "_view_module": "@jupyter-widgets/controls",
            "_view_module_version": "1.5.0",
            "_view_name": "HTMLView",
            "description": "",
            "description_tooltip": null,
            "layout": "IPY_MODEL_8ee773f9b3c34c338ab1fb7f075c351b",
            "placeholder": "​",
            "style": "IPY_MODEL_6ac5f974a1da450e9919a904ca61bf33",
            "value": " 941/941 [04:30&lt;00:00, 13.13it/s]"
          }
        },
        "4aeaf48f33c845ac987a147b9be59368": {
          "model_module": "@jupyter-widgets/base",
          "model_name": "LayoutModel",
          "model_module_version": "1.2.0",
          "state": {
            "_model_module": "@jupyter-widgets/base",
            "_model_module_version": "1.2.0",
            "_model_name": "LayoutModel",
            "_view_count": null,
            "_view_module": "@jupyter-widgets/base",
            "_view_module_version": "1.2.0",
            "_view_name": "LayoutView",
            "align_content": null,
            "align_items": null,
            "align_self": null,
            "border": null,
            "bottom": null,
            "display": null,
            "flex": null,
            "flex_flow": null,
            "grid_area": null,
            "grid_auto_columns": null,
            "grid_auto_flow": null,
            "grid_auto_rows": null,
            "grid_column": null,
            "grid_gap": null,
            "grid_row": null,
            "grid_template_areas": null,
            "grid_template_columns": null,
            "grid_template_rows": null,
            "height": null,
            "justify_content": null,
            "justify_items": null,
            "left": null,
            "margin": null,
            "max_height": null,
            "max_width": null,
            "min_height": null,
            "min_width": null,
            "object_fit": null,
            "object_position": null,
            "order": null,
            "overflow": null,
            "overflow_x": null,
            "overflow_y": null,
            "padding": null,
            "right": null,
            "top": null,
            "visibility": null,
            "width": null
          }
        },
        "9ebb9b654b1c47caa31128d16e8a0554": {
          "model_module": "@jupyter-widgets/base",
          "model_name": "LayoutModel",
          "model_module_version": "1.2.0",
          "state": {
            "_model_module": "@jupyter-widgets/base",
            "_model_module_version": "1.2.0",
            "_model_name": "LayoutModel",
            "_view_count": null,
            "_view_module": "@jupyter-widgets/base",
            "_view_module_version": "1.2.0",
            "_view_name": "LayoutView",
            "align_content": null,
            "align_items": null,
            "align_self": null,
            "border": null,
            "bottom": null,
            "display": null,
            "flex": null,
            "flex_flow": null,
            "grid_area": null,
            "grid_auto_columns": null,
            "grid_auto_flow": null,
            "grid_auto_rows": null,
            "grid_column": null,
            "grid_gap": null,
            "grid_row": null,
            "grid_template_areas": null,
            "grid_template_columns": null,
            "grid_template_rows": null,
            "height": null,
            "justify_content": null,
            "justify_items": null,
            "left": null,
            "margin": null,
            "max_height": null,
            "max_width": null,
            "min_height": null,
            "min_width": null,
            "object_fit": null,
            "object_position": null,
            "order": null,
            "overflow": null,
            "overflow_x": null,
            "overflow_y": null,
            "padding": null,
            "right": null,
            "top": null,
            "visibility": null,
            "width": null
          }
        },
        "a3302ea61cbd40d4a4bc19a8e73ec4a3": {
          "model_module": "@jupyter-widgets/controls",
          "model_name": "DescriptionStyleModel",
          "model_module_version": "1.5.0",
          "state": {
            "_model_module": "@jupyter-widgets/controls",
            "_model_module_version": "1.5.0",
            "_model_name": "DescriptionStyleModel",
            "_view_count": null,
            "_view_module": "@jupyter-widgets/base",
            "_view_module_version": "1.2.0",
            "_view_name": "StyleView",
            "description_width": ""
          }
        },
        "bae0598149b0402688fd8e08f4418619": {
          "model_module": "@jupyter-widgets/base",
          "model_name": "LayoutModel",
          "model_module_version": "1.2.0",
          "state": {
            "_model_module": "@jupyter-widgets/base",
            "_model_module_version": "1.2.0",
            "_model_name": "LayoutModel",
            "_view_count": null,
            "_view_module": "@jupyter-widgets/base",
            "_view_module_version": "1.2.0",
            "_view_name": "LayoutView",
            "align_content": null,
            "align_items": null,
            "align_self": null,
            "border": null,
            "bottom": null,
            "display": null,
            "flex": null,
            "flex_flow": null,
            "grid_area": null,
            "grid_auto_columns": null,
            "grid_auto_flow": null,
            "grid_auto_rows": null,
            "grid_column": null,
            "grid_gap": null,
            "grid_row": null,
            "grid_template_areas": null,
            "grid_template_columns": null,
            "grid_template_rows": null,
            "height": null,
            "justify_content": null,
            "justify_items": null,
            "left": null,
            "margin": null,
            "max_height": null,
            "max_width": null,
            "min_height": null,
            "min_width": null,
            "object_fit": null,
            "object_position": null,
            "order": null,
            "overflow": null,
            "overflow_x": null,
            "overflow_y": null,
            "padding": null,
            "right": null,
            "top": null,
            "visibility": null,
            "width": null
          }
        },
        "07a754cc801c447bb42a79e54ba6afdd": {
          "model_module": "@jupyter-widgets/controls",
          "model_name": "ProgressStyleModel",
          "model_module_version": "1.5.0",
          "state": {
            "_model_module": "@jupyter-widgets/controls",
            "_model_module_version": "1.5.0",
            "_model_name": "ProgressStyleModel",
            "_view_count": null,
            "_view_module": "@jupyter-widgets/base",
            "_view_module_version": "1.2.0",
            "_view_name": "StyleView",
            "bar_color": null,
            "description_width": ""
          }
        },
        "8ee773f9b3c34c338ab1fb7f075c351b": {
          "model_module": "@jupyter-widgets/base",
          "model_name": "LayoutModel",
          "model_module_version": "1.2.0",
          "state": {
            "_model_module": "@jupyter-widgets/base",
            "_model_module_version": "1.2.0",
            "_model_name": "LayoutModel",
            "_view_count": null,
            "_view_module": "@jupyter-widgets/base",
            "_view_module_version": "1.2.0",
            "_view_name": "LayoutView",
            "align_content": null,
            "align_items": null,
            "align_self": null,
            "border": null,
            "bottom": null,
            "display": null,
            "flex": null,
            "flex_flow": null,
            "grid_area": null,
            "grid_auto_columns": null,
            "grid_auto_flow": null,
            "grid_auto_rows": null,
            "grid_column": null,
            "grid_gap": null,
            "grid_row": null,
            "grid_template_areas": null,
            "grid_template_columns": null,
            "grid_template_rows": null,
            "height": null,
            "justify_content": null,
            "justify_items": null,
            "left": null,
            "margin": null,
            "max_height": null,
            "max_width": null,
            "min_height": null,
            "min_width": null,
            "object_fit": null,
            "object_position": null,
            "order": null,
            "overflow": null,
            "overflow_x": null,
            "overflow_y": null,
            "padding": null,
            "right": null,
            "top": null,
            "visibility": null,
            "width": null
          }
        },
        "6ac5f974a1da450e9919a904ca61bf33": {
          "model_module": "@jupyter-widgets/controls",
          "model_name": "DescriptionStyleModel",
          "model_module_version": "1.5.0",
          "state": {
            "_model_module": "@jupyter-widgets/controls",
            "_model_module_version": "1.5.0",
            "_model_name": "DescriptionStyleModel",
            "_view_count": null,
            "_view_module": "@jupyter-widgets/base",
            "_view_module_version": "1.2.0",
            "_view_name": "StyleView",
            "description_width": ""
          }
        }
      }
    }
  },
  "cells": [
    {
      "cell_type": "markdown",
      "metadata": {
        "id": "view-in-github",
        "colab_type": "text"
      },
      "source": [
        "<a href=\"https://colab.research.google.com/github/Tstrebe2/help-desk-agent-pilot/blob/main/notebooks/help_ticket_vector_search_poc.ipynb\" target=\"_parent\"><img src=\"https://colab.research.google.com/assets/colab-badge.svg\" alt=\"Open In Colab\"/></a>"
      ]
    },
    {
      "cell_type": "markdown",
      "metadata": {
        "id": "eb34cf62"
      },
      "source": [
        "# Help Desk Ticket Analysis\n",
        "\n",
        "This notebook demonstrates how to create and visualize sentence embeddings for help desk tickets and then save them for another workflow.\n",
        "\n",
        "## Setup and Data Loading\n",
        "\n",
        "First, we install the necessary libraries and load the help desk ticket data."
      ]
    },
    {
      "cell_type": "code",
      "metadata": {
        "id": "414584b4"
      },
      "source": [
        "!pip install sentence-transformers faiss-cpu watermark --quiet"
      ],
      "execution_count": null,
      "outputs": []
    },
    {
      "cell_type": "markdown",
      "metadata": {
        "id": "11952dbb"
      },
      "source": [
        "Mount Google Drive to access the data file."
      ]
    },
    {
      "cell_type": "code",
      "metadata": {
        "colab": {
          "base_uri": "https://localhost:8080/"
        },
        "id": "c2d4fd04",
        "outputId": "50ce4992-d3c0-4570-d6e2-97ff9b2f44d7"
      },
      "source": [
        "from google.colab import drive\n",
        "drive.mount('/content/drive')"
      ],
      "execution_count": null,
      "outputs": [
        {
          "output_type": "stream",
          "name": "stdout",
          "text": [
            "Drive already mounted at /content/drive; to attempt to forcibly remount, call drive.mount(\"/content/drive\", force_remount=True).\n"
          ]
        }
      ]
    },
    {
      "cell_type": "markdown",
      "metadata": {
        "id": "08afdd55"
      },
      "source": [
        "Import the required libraries."
      ]
    },
    {
      "cell_type": "code",
      "metadata": {
        "id": "9c350087"
      },
      "source": [
        "import os\n",
        "\n",
        "import pandas as pd\n",
        "import numpy as np\n",
        "\n",
        "import faiss\n",
        "from sentence_transformers import SentenceTransformer"
      ],
      "execution_count": null,
      "outputs": []
    },
    {
      "cell_type": "markdown",
      "metadata": {
        "id": "9fbabecd"
      },
      "source": [
        "Define the root path for the data."
      ]
    },
    {
      "cell_type": "code",
      "metadata": {
        "id": "77b16a2b"
      },
      "source": [
        "ROOT_PATH = \"drive/MyDrive/help-desk-tickets-prototype\""
      ],
      "execution_count": null,
      "outputs": []
    },
    {
      "cell_type": "markdown",
      "metadata": {
        "id": "844ff59a"
      },
      "source": [
        "Load the dataset and drop rows with missing values in the 'actionbody' column."
      ]
    },
    {
      "cell_type": "code",
      "metadata": {
        "colab": {
          "base_uri": "https://localhost:8080/"
        },
        "id": "2cd335ab",
        "outputId": "52ba28db-f906-453c-8da2-4a86d94b6210"
      },
      "source": [
        "df = pd.read_csv(os.path.join(ROOT_PATH, \"sample_utterances.csv\")).convert_dtypes()\n",
        "print(\"df shape:\", df.shape)\n",
        "df = df.dropna(subset=[\"actionbody\"])\n",
        "print(\"df shape after drop na:\", df.shape)"
      ],
      "execution_count": null,
      "outputs": [
        {
          "output_type": "stream",
          "name": "stdout",
          "text": [
            "df shape: (30104, 9)\n",
            "df shape after drop na: (30081, 9)\n"
          ]
        }
      ]
    },
    {
      "cell_type": "markdown",
      "metadata": {
        "id": "ebf20279"
      },
      "source": [
        "Display the first few entries of the 'actionbody' column to understand the data."
      ]
    },
    {
      "cell_type": "code",
      "metadata": {
        "colab": {
          "base_uri": "https://localhost:8080/"
        },
        "id": "edf95721",
        "outputId": "a38d2f43-e530-414b-8708-c2ed8c73f714"
      },
      "source": [
        "df.head()[\"actionbody\"].tolist()"
      ],
      "execution_count": null,
      "outputs": [
        {
          "output_type": "execute_result",
          "data": {
            "text/plain": [
              "['dear ph_name team',\n",
              " 'we need your urgent support to fix list of vulnerabilities reported in ph_name application .',\n",
              " 'please provide resolution date before end of ‘january ph_technical .',\n",
              " '.',\n",
              " 'problem: .']"
            ]
          },
          "metadata": {},
          "execution_count": 6
        }
      ]
    },
    {
      "cell_type": "markdown",
      "metadata": {
        "id": "46efe05b"
      },
      "source": [
        "## Embedding and Indexing\n",
        "\n",
        "We use a pre-trained sentence transformer model to create embeddings for the ticket descriptions and then build a FAISS index for efficient similarity search."
      ]
    },
    {
      "cell_type": "code",
      "metadata": {
        "colab": {
          "base_uri": "https://localhost:8080/",
          "height": 49,
          "referenced_widgets": [
            "c1c2e780e8aa431e990f544708ae1edf",
            "f2d36ec38ee048928acda726f383464a",
            "54168e93ec154593ad3c7341da21cd3a",
            "c460d5a1fd08443088984778444fcd32",
            "4aeaf48f33c845ac987a147b9be59368",
            "9ebb9b654b1c47caa31128d16e8a0554",
            "a3302ea61cbd40d4a4bc19a8e73ec4a3",
            "bae0598149b0402688fd8e08f4418619",
            "07a754cc801c447bb42a79e54ba6afdd",
            "8ee773f9b3c34c338ab1fb7f075c351b",
            "6ac5f974a1da450e9919a904ca61bf33"
          ]
        },
        "id": "f4184462",
        "outputId": "910f2868-aebb-435e-c727-f73b0ded76dc"
      },
      "source": [
        "# Load a fast, local embedding model\n",
        "model = SentenceTransformer('all-MiniLM-L6-v2')\n",
        "\n",
        "# Embed all ticket descriptions\n",
        "descriptions = df['actionbody'].tolist()\n",
        "embeddings = model.encode(descriptions, show_progress_bar=True).astype('float32')"
      ],
      "execution_count": null,
      "outputs": [
        {
          "output_type": "display_data",
          "data": {
            "text/plain": [
              "Batches:   0%|          | 0/941 [00:00<?, ?it/s]"
            ],
            "application/vnd.jupyter.widget-view+json": {
              "version_major": 2,
              "version_minor": 0,
              "model_id": "c1c2e780e8aa431e990f544708ae1edf"
            }
          },
          "metadata": {}
        }
      ]
    },
    {
      "cell_type": "markdown",
      "metadata": {
        "id": "887148e7"
      },
      "source": [
        "Convert the embeddings to the required format and build the FAISS index."
      ]
    },
    {
      "cell_type": "code",
      "metadata": {
        "id": "c8b32646"
      },
      "source": [
        "# Build FAISS index\n",
        "index = faiss.IndexFlatL2(embeddings.shape[1])\n",
        "index.add(embeddings)"
      ],
      "execution_count": null,
      "outputs": []
    },
    {
      "cell_type": "markdown",
      "metadata": {
        "id": "d59eedb9"
      },
      "source": [
        "## Similarity Search\n",
        "\n",
        "Define a function to search for similar tickets using the FAISS index and display the top 10 results to verify they are related to our query."
      ]
    },
    {
      "cell_type": "code",
      "source": [
        "# Define the number of top results to retrieve and the user query\n",
        "top_k = 10\n",
        "user_query = \"Data migration\"\n",
        "\n",
        "# Encode the user query\n",
        "query_vec = model.encode([user_query]).astype('float32')\n",
        "\n",
        "# Search FAISS for top 10 most similar tickets (Euclidean distance)\n",
        "D, I = index.search(query_vec, top_k)\n",
        "D, I = D.squeeze(), I.squeeze()\n",
        "top_vectors = embeddings[I]\n",
        "top_descriptions = df.iloc[I]['actionbody'].tolist()\n",
        "\n",
        "# Print the top 10 tickets so they can be compared against the graph\n",
        "print(f\"Top 10 similar tickets to {user_query}:\")\n",
        "for i, desc in enumerate(top_descriptions):\n",
        "    print(f\"{i+1}. {desc}\")"
      ],
      "metadata": {
        "colab": {
          "base_uri": "https://localhost:8080/"
        },
        "id": "HmBBIOmJl-ot",
        "outputId": "9c307026-5b07-40c9-aefa-6d4e2d319f6f"
      },
      "execution_count": null,
      "outputs": [
        {
          "output_type": "stream",
          "name": "stdout",
          "text": [
            "Top 10 similar tickets to Data migration:\n",
            "1. 3)execution of the ph_technical migration procedure\n",
            "2. the issue mainly with migrated data.\n",
            "3. we are doing test of migration script.\n",
            "4. use migration script on ph_technical:\n",
            "5. due to data center migration we will do this upgrade next week.\n",
            "6. i sent a migration script by email, please suggest a time to connect to proceed it.\n",
            "7. please kindly note that we shutdown the database on the dr server in order to move it to the new location.\n",
            "8. greetings reference to our previous conversation and based on our last session observations , kindly note that the current data existing on ph_technical schema on uat ph_technical has many constraint issues due to the restoration process used to rename current tables and keep our system constraints linked to the old tables, a new dump should be taken from prod ph_technical after working hours and restored to uat in order to ensure better data consistency , we also need the data from prod to test the archiving process we're about to start deploying on the new created schema, appreciate your quick action on this to prepare the necessary internally , also please let us know if there's any need for us to participate with your internal dba to take the necessary dump as per needed best regards,  ph_user   ph_user .\n",
            "9. as a part of migration from the cloud to on premise.\n",
            "10. as a part of migration from the cloud to on premise.\n"
          ]
        }
      ]
    },
    {
      "cell_type": "markdown",
      "metadata": {
        "id": "d206b562"
      },
      "source": [
        "## Saving Data\n",
        "\n",
        "Save the FAISS index and the processed dataframe for future use."
      ]
    },
    {
      "cell_type": "code",
      "metadata": {
        "id": "fd10271f"
      },
      "source": [
        "faiss.write_index(index, os.path.join(ROOT_PATH, 'faiss_index.idx'))"
      ],
      "execution_count": null,
      "outputs": []
    },
    {
      "cell_type": "code",
      "metadata": {
        "id": "0639a012"
      },
      "source": [
        "df.to_csv(os.path.join(ROOT_PATH, 'sample_utterances_drop_na.csv'))"
      ],
      "execution_count": null,
      "outputs": []
    },
    {
      "cell_type": "markdown",
      "metadata": {
        "id": "b0b806e0"
      },
      "source": [
        "## Environment Information"
      ]
    },
    {
      "cell_type": "code",
      "metadata": {
        "colab": {
          "base_uri": "https://localhost:8080/"
        },
        "id": "45aa582e",
        "outputId": "3bdc3e03-c9cf-4893-b975-a247d9379d6f"
      },
      "source": [
        "%reload_ext watermark\n",
        "%watermark\n",
        "%watermark --iversions"
      ],
      "execution_count": null,
      "outputs": [
        {
          "output_type": "stream",
          "name": "stdout",
          "text": [
            "Last updated: 2025-07-10T20:20:10.454024+00:00\n",
            "\n",
            "Python implementation: CPython\n",
            "Python version       : 3.11.13\n",
            "IPython version      : 7.34.0\n",
            "\n",
            "Compiler    : GCC 11.4.0\n",
            "OS          : Linux\n",
            "Release     : 6.1.123+\n",
            "Machine     : x86_64\n",
            "Processor   : x86_64\n",
            "CPU cores   : 2\n",
            "Architecture: 64bit\n",
            "\n",
            "numpy                : 2.0.2\n",
            "networkx             : 3.5\n",
            "google               : 2.0.3\n",
            "scipy                : 1.15.3\n",
            "plotly               : 5.24.1\n",
            "sentence_transformers: 4.1.0\n",
            "faiss                : 1.11.0\n",
            "pandas               : 2.2.2\n",
            "\n"
          ]
        }
      ]
    }
  ]
}