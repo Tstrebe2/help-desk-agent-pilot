{
 "cells": [
  {
   "cell_type": "code",
   "execution_count": 1,
   "id": "25258803",
   "metadata": {},
   "outputs": [
    {
     "data": {
      "text/plain": [
       "True"
      ]
     },
     "execution_count": 1,
     "metadata": {},
     "output_type": "execute_result"
    }
   ],
   "source": [
    "from pathlib import Path\n",
    "from dotenv import load_dotenv\n",
    "\n",
    "dotenv_path = Path(\"../help-desk-agent-flask-app/.env\").resolve()\n",
    "load_dotenv(dotenv_path=dotenv_path)"
   ]
  },
  {
   "cell_type": "markdown",
   "id": "c604f9ff",
   "metadata": {},
   "source": [
    "### Load Document and Vector Store"
   ]
  },
  {
   "cell_type": "code",
   "execution_count": 2,
   "id": "10c7449d",
   "metadata": {},
   "outputs": [],
   "source": [
    "file_path = Path(\"../../datasets/help-desk-tickets/va_helpdesk_tickets_sample_realistic.csv\").resolve()"
   ]
  },
  {
   "cell_type": "code",
   "execution_count": 3,
   "id": "9251cd6f",
   "metadata": {},
   "outputs": [
    {
     "name": "stdout",
     "output_type": "stream",
     "text": [
      "There are 500 documents\n"
     ]
    },
    {
     "data": {
      "text/plain": [
       "[Document(metadata={'source': 'C:\\\\Users\\\\Tstre\\\\repos\\\\datasets\\\\help-desk-tickets\\\\va_helpdesk_tickets_sample_realistic.csv', 'row': 0, 'TicketID': 'b44a8a40', 'CreatedAt': '2024-10-12 02:20:35', 'ClosedAt': ''}, page_content='UserID: U008b1810\\nUserRole: IT Support\\nFacility: San Diego VA\\nEHRModule: Authentication\\nCategory: Performance Issue\\nPriority: Critical\\nStatus: Open\\nResolutionSummary: \\nBody: The Authentication module is taking more than 15 seconds to load patient data. This is slowing down our response time during clinic hours.'),\n",
       " Document(metadata={'source': 'C:\\\\Users\\\\Tstre\\\\repos\\\\datasets\\\\help-desk-tickets\\\\va_helpdesk_tickets_sample_realistic.csv', 'row': 1, 'TicketID': '7d9c3369', 'CreatedAt': '2024-05-19 03:44:35', 'ClosedAt': ''}, page_content='UserID: U9aa88516\\nUserRole: Lab Technician\\nFacility: Miami VA Healthcare\\nEHRModule: Pharmacy\\nCategory: Bug\\nPriority: Low\\nStatus: In Progress\\nResolutionSummary: \\nBody: Since the last update, the Pharmacy interface freezes when I click on certain menus. This is affecting my workflow heavily.'),\n",
       " Document(metadata={'source': 'C:\\\\Users\\\\Tstre\\\\repos\\\\datasets\\\\help-desk-tickets\\\\va_helpdesk_tickets_sample_realistic.csv', 'row': 2, 'TicketID': '0a319367', 'CreatedAt': '2025-01-12 15:41:35', 'ClosedAt': ''}, page_content=\"UserID: U36c5f8be\\nUserRole: Lab Technician\\nFacility: Seattle VA\\nEHRModule: Scheduling\\nCategory: Access Request\\nPriority: Low\\nStatus: In Progress\\nResolutionSummary: \\nBody: I've been reassigned to a new department at Seattle VA, and I can’t access the Scheduling section. Please restore my access permissions.\"),\n",
       " Document(metadata={'source': 'C:\\\\Users\\\\Tstre\\\\repos\\\\datasets\\\\help-desk-tickets\\\\va_helpdesk_tickets_sample_realistic.csv', 'row': 3, 'TicketID': '80870f4e', 'CreatedAt': '2024-02-21 19:47:35', 'ClosedAt': ''}, page_content='UserID: Uab5b6ff0\\nUserRole: Lab Technician\\nFacility: Phoenix VA\\nEHRModule: Scheduling\\nCategory: Feature Request\\nPriority: High\\nStatus: In Progress\\nResolutionSummary: \\nBody: Please consider adding an alert function in the Scheduling tool. It would really help us respond faster to urgent cases.'),\n",
       " Document(metadata={'source': 'C:\\\\Users\\\\Tstre\\\\repos\\\\datasets\\\\help-desk-tickets\\\\va_helpdesk_tickets_sample_realistic.csv', 'row': 4, 'TicketID': 'b9ecf1af', 'CreatedAt': '2024-05-19 21:02:35', 'ClosedAt': ''}, page_content='UserID: Ua0f0736b\\nUserRole: Nurse\\nFacility: Richmond VAMC\\nEHRModule: Billing\\nCategory: Bug\\nPriority: High\\nStatus: In Progress\\nResolutionSummary: \\nBody: As a Nurse, I encountered an issue with the Billing module at Richmond VAMC. Whenever I try to submit a form, the system either times out or shows a blank screen.')]"
      ]
     },
     "execution_count": 3,
     "metadata": {},
     "output_type": "execute_result"
    }
   ],
   "source": [
    "from langchain_community.document_loaders import CSVLoader\n",
    "\n",
    "loader = CSVLoader(\n",
    "    file_path=file_path, \n",
    "    encoding=\"utf-8\",\n",
    "    metadata_columns=[\n",
    "        \"TicketID\", \"CreatedAt\", \"ClosedAt\"\n",
    "    ],\n",
    "    \n",
    ")\n",
    "\n",
    "documents = loader.load()\n",
    "\n",
    "print(\"There are {} documents\".format(len(documents)))\n",
    "documents[:5]"
   ]
  },
  {
   "cell_type": "code",
   "execution_count": 2,
   "id": "04cdd54e",
   "metadata": {},
   "outputs": [],
   "source": [
    "from langchain_chroma import Chroma\n",
    "from langchain_google_genai import GoogleGenerativeAIEmbeddings\n",
    "\n",
    "# Loads the vector store from the specified directory if it already exists\n",
    "VECTOR_STORE = Chroma(\n",
    "    collection_name=\"helpdesk_tickets\",\n",
    "    embedding_function=GoogleGenerativeAIEmbeddings(model=\"models/embedding-001\"),\n",
    "    persist_directory=\"../../datasets/help-desk-tickets/chroma_db\"\n",
    ")\n",
    "# Initial run: build and persist\n",
    "# Uncomment the next line to add new documents and persist the vector store\n",
    "# _ = VECTOR_STORE.add_documents(documents)"
   ]
  },
  {
   "cell_type": "markdown",
   "id": "228b115e",
   "metadata": {},
   "source": [
    "### Develop RAG Tool"
   ]
  },
  {
   "cell_type": "code",
   "execution_count": 3,
   "id": "ccc0e995",
   "metadata": {},
   "outputs": [],
   "source": [
    "from langchain_core.prompts import PromptTemplate\n",
    "from langchain_google_genai import ChatGoogleGenerativeAI\n",
    "from langchain_core.runnables import RunnableLambda\n",
    "from langchain_core.output_parsers import StrOutputParser\n",
    "from langchain_core.tools import convert_runnable_to_tool\n",
    "from pydantic import BaseModel, Field\n",
    "\n",
    "class InputSchema(BaseModel):\n",
    "    question: str = Field(\n",
    "        description=(\n",
    "            \"A natural language question about electronic health record (EHR) system \"\n",
    "            \"tickets or issues, such as 'What is causing pharmacy work stoppages?'\"\n",
    "        )\n",
    "    )\n",
    "\n",
    "def get_top_k_documents(query: str):\n",
    "    \"\"\"Retrieve the top-k documents based on the hyde query.\"\"\"\n",
    "    top_k_documents = VECTOR_STORE.similarity_search(query, k=3)\n",
    "    return top_k_documents\n",
    "\n",
    "def format_documents(documents):\n",
    "    \"\"\"\n",
    "    Format retrieved docs so that each begins with [TicketID],\n",
    "    followed by EHR fields like Facility, EHRModule, etc.\n",
    "    Ensures that TicketID is exposed in exactly bracketed form.\n",
    "    \"\"\"\n",
    "    formatted = []\n",
    "    for doc in documents:\n",
    "        tid = doc.metadata.get(\"TicketID\", \"UNKNOWN_ID\")\n",
    "        content = doc.page_content\n",
    "        formatted.append(f\"TicketID: [{tid}]\\n{content}\")\n",
    "    return \"\\n\\n\".join(formatted)\n",
    "\n",
    "def get_rag_tool():\n",
    "    \"\"\"\n",
    "    Create a RAG tool that uses the GoogleGenerativeAI model to generate responses\n",
    "    \"\"\"\n",
    "    llm = ChatGoogleGenerativeAI(model=\"gemini-2.5-flash-lite\", temperature=0.7)\n",
    "\n",
    "    hyde_template = (\n",
    "    \"Based on the question: {question} \"\n",
    "    \"Write a passage that could contain the answer to the question: \" \n",
    "    )\n",
    "    hyde_prompt = PromptTemplate(\n",
    "        input_variables=[\"question\"],\n",
    "        template=hyde_template\n",
    "    )\n",
    "\n",
    "    get_top_k_documents_rl = RunnableLambda(get_top_k_documents)\n",
    "    format_documents_rl = RunnableLambda(format_documents)\n",
    "\n",
    "    hyde_chain = hyde_prompt | llm | StrOutputParser()\n",
    "    retreival_chain = get_top_k_documents_rl | format_documents_rl | StrOutputParser()\n",
    "    rag_chain = hyde_chain | retreival_chain\n",
    "\n",
    "    rag_tool = convert_runnable_to_tool(\n",
    "        runnable=rag_chain,\n",
    "        name=\"ehr_ticket_rag_retriever\",\n",
    "        description=(\n",
    "            \"Useful for answering questions about EHR system issues using information extracted from support tickets. \"\n",
    "            \"Given a question, it generates a hypothesis passage, retrieves relevant tickets, and formats their contents.\"\n",
    "        ),\n",
    "        args_schema=InputSchema\n",
    "    )\n",
    "    return rag_tool"
   ]
  },
  {
   "cell_type": "code",
   "execution_count": 4,
   "id": "aedf9cc1",
   "metadata": {},
   "outputs": [
    {
     "name": "stdout",
     "output_type": "stream",
     "text": [
      "Tool name: ehr_ticket_rag_retriever\n",
      "Tool name: Useful for answering questions about EHR system issues using information extracted from support tickets. Given a question, it generates a hypothesis passage, retrieves relevant tickets, and formats their contents.\n",
      "Tool schema: {'properties': {'question': {'description': \"A natural language question about electronic health record (EHR) system tickets or issues, such as 'What is causing pharmacy work stoppages?'\", 'title': 'Question', 'type': 'string'}}, 'required': ['question'], 'title': 'InputSchema', 'type': 'object'}\n"
     ]
    }
   ],
   "source": [
    "from langchain_core.tools import BaseTool\n",
    "rag_tool = get_rag_tool()\n",
    "assert isinstance(rag_tool, BaseTool)\n",
    "print(f\"Tool name: {rag_tool.name}\")\n",
    "print(f\"Tool name: {rag_tool.description}\")\n",
    "print(f\"Tool schema: {rag_tool.args_schema.model_json_schema()}\")"
   ]
  },
  {
   "cell_type": "code",
   "execution_count": 5,
   "id": "05cd9469",
   "metadata": {},
   "outputs": [
    {
     "name": "stdout",
     "output_type": "stream",
     "text": [
      "Response:\n",
      " TicketID: [c27b6138]\n",
      "UserID: Uf61d0731\n",
      "UserRole: Nurse\n",
      "Facility: Boston VA\n",
      "EHRModule: Pharmacy\n",
      "Category: Performance Issue\n",
      "Priority: Medium\n",
      "Status: Open\n",
      "ResolutionSummary: \n",
      "Body: As a Nurse, it’s hard to work when the Pharmacy screen stalls every few clicks. Is there backend maintenance happening?\n",
      "\n",
      "TicketID: [48cf2892]\n",
      "UserID: Uc1b5e9b7\n",
      "UserRole: Nurse\n",
      "Facility: Denver VA\n",
      "EHRModule: Pharmacy\n",
      "Category: Performance Issue\n",
      "Priority: Low\n",
      "Status: In Progress\n",
      "ResolutionSummary: \n",
      "Body: As a Nurse, it’s hard to work when the Pharmacy screen stalls every few clicks. Is there backend maintenance happening?\n",
      "\n",
      "TicketID: [0dd06ea2]\n",
      "UserID: Ua3f6e391\n",
      "UserRole: Nurse\n",
      "Facility: Phoenix VA\n",
      "EHRModule: Pharmacy\n",
      "Category: Performance Issue\n",
      "Priority: Medium\n",
      "Status: Closed\n",
      "ResolutionSummary: Resolved per SOP.\n",
      "Body: As a Nurse, it’s hard to work when the Pharmacy screen stalls every few clicks. Is there backend maintenance happening?\n"
     ]
    }
   ],
   "source": [
    "question = \"Can you summarize what is causing some of the pharmacy work stoppage issues?\"\n",
    "\n",
    "response = rag_tool.invoke({\"question\": question})\n",
    "print(\"Response:\\n\", response)"
   ]
  },
  {
   "cell_type": "markdown",
   "id": "2c31fe8f",
   "metadata": {},
   "source": [
    "### ReACT Agent"
   ]
  },
  {
   "cell_type": "code",
   "execution_count": 8,
   "id": "677509b1",
   "metadata": {},
   "outputs": [],
   "source": [
    "from langgraph.prebuilt import create_react_agent\n",
    "from langchain_google_genai import ChatGoogleGenerativeAI\n",
    "\n",
    "def create_agent():\n",
    "    \"\"\"\n",
    "    Create a ReACT agent that uses the RAG tool for answering questions\n",
    "    about EHR support tickets.\n",
    "    \"\"\"\n",
    "    # Define the system prompt for the agent\n",
    "    system_prompt = \"\"\"\n",
    "    You are a support assistant for EHR support tickets. Tools retrieve actual ticket records, and Ticket IDs are shown in square brackets — e.g. [c27b6138].\n",
    "\n",
    "    When answering a user's question:\n",
    "    - Summarize the explanation using Ticket IDs only in square brackets, never full metadata dump.\n",
    "    - For example: “The issue appears in [c27b6138], [48cf2892], [0dd06ea2] — it's related to delays in the Pharmacy module…”\n",
    "    - Always include at least one bracketed TicketID if relevant.\n",
    "    - If no ticket matches, say “I couldn't find any relevant ticket for that question.”\n",
    "\n",
    "    - Provide answers that are strictly based on ticket data. Do NOT hallucinate Ticket IDs.\n",
    "    \"\"\"\n",
    "    llm = ChatGoogleGenerativeAI(model=\"gemini-2.5-flash-lite\", temperature=1.0)\n",
    "    rag_tool = get_rag_tool()\n",
    "    return create_react_agent(model=llm, tools=[rag_tool], state_modifier=system_prompt)\n",
    "\n",
    "REACT_AGENT = create_agent()"
   ]
  },
  {
   "cell_type": "code",
   "execution_count": 9,
   "id": "13282034",
   "metadata": {},
   "outputs": [
    {
     "name": "stdout",
     "output_type": "stream",
     "text": [
      "================================\u001b[1m Human Message \u001b[0m=================================\n",
      "\n",
      "Can you summarize what is causing some of the pharmacy work stoppage issues?\n",
      "==================================\u001b[1m Ai Message \u001b[0m==================================\n",
      "Tool Calls:\n",
      "  ehr_ticket_rag_retriever (045cb2e4-0777-4896-ae7b-b3f5dd14812c)\n",
      " Call ID: 045cb2e4-0777-4896-ae7b-b3f5dd14812c\n",
      "  Args:\n",
      "    question: What is causing pharmacy work stoppage issues?\n",
      "=================================\u001b[1m Tool Message \u001b[0m=================================\n",
      "Name: ehr_ticket_rag_retriever\n",
      "\n",
      "TicketID: [c27b6138]\n",
      "UserID: Uf61d0731\n",
      "UserRole: Nurse\n",
      "Facility: Boston VA\n",
      "EHRModule: Pharmacy\n",
      "Category: Performance Issue\n",
      "Priority: Medium\n",
      "Status: Open\n",
      "ResolutionSummary: \n",
      "Body: As a Nurse, it’s hard to work when the Pharmacy screen stalls every few clicks. Is there backend maintenance happening?\n",
      "\n",
      "TicketID: [0dd06ea2]\n",
      "UserID: Ua3f6e391\n",
      "UserRole: Nurse\n",
      "Facility: Phoenix VA\n",
      "EHRModule: Pharmacy\n",
      "Category: Performance Issue\n",
      "Priority: Medium\n",
      "Status: Closed\n",
      "ResolutionSummary: Resolved per SOP.\n",
      "Body: As a Nurse, it’s hard to work when the Pharmacy screen stalls every few clicks. Is there backend maintenance happening?\n",
      "\n",
      "TicketID: [48cf2892]\n",
      "UserID: Uc1b5e9b7\n",
      "UserRole: Nurse\n",
      "Facility: Denver VA\n",
      "EHRModule: Pharmacy\n",
      "Category: Performance Issue\n",
      "Priority: Low\n",
      "Status: In Progress\n",
      "ResolutionSummary: \n",
      "Body: As a Nurse, it’s hard to work when the Pharmacy screen stalls every few clicks. Is there backend maintenance happening?\n",
      "==================================\u001b[1m Ai Message \u001b[0m==================================\n",
      "\n",
      "The provided information indicates that pharmacy work stoppage issues are primarily caused by performance problems, specifically screen stalling during use. The exact underlying cause for this slowness is not detailed in the tickets, but it is suggested that backend maintenance might be a factor.\n"
     ]
    }
   ],
   "source": [
    "for event in REACT_AGENT.stream({\"messages\": [(\"user\", question)]}, stream_mode=\"values\"):\n",
    "    event[\"messages\"][-1].pretty_print()"
   ]
  },
  {
   "cell_type": "code",
   "execution_count": null,
   "id": "f6d7ad06",
   "metadata": {},
   "outputs": [
    {
     "data": {
      "text/plain": [
       "{'messages': [HumanMessage(content='Can you summarize what is causing some of the pharmacy work stoppage issues?', additional_kwargs={}, response_metadata={}, id='51310739-24dc-4569-8f02-0ebeb2ca4bdd'),\n",
       "  AIMessage(content='', additional_kwargs={'function_call': {'name': 'ehr_ticket_rag_retriever', 'arguments': '{\"question\": \"What is causing pharmacy work stoppage issues?\"}'}}, response_metadata={'prompt_feedback': {'block_reason': 0, 'safety_ratings': []}, 'finish_reason': 'STOP', 'safety_ratings': []}, id='run--9840a481-dc43-46e4-9971-a736ec9cabab-0', tool_calls=[{'name': 'ehr_ticket_rag_retriever', 'args': {'question': 'What is causing pharmacy work stoppage issues?'}, 'id': '4db3c67b-37bb-4214-a61a-4af03a6caeab', 'type': 'tool_call'}], usage_metadata={'input_tokens': 114, 'output_tokens': 27, 'total_tokens': 141, 'input_token_details': {'cache_read': 0}}),\n",
       "  ToolMessage(content='TicketID: [c27b6138]\\nUserID: Uf61d0731\\nUserRole: Nurse\\nFacility: Boston VA\\nEHRModule: Pharmacy\\nCategory: Performance Issue\\nPriority: Medium\\nStatus: Open\\nResolutionSummary: \\nBody: As a Nurse, it’s hard to work when the Pharmacy screen stalls every few clicks. Is there backend maintenance happening?\\n\\nTicketID: [48cf2892]\\nUserID: Uc1b5e9b7\\nUserRole: Nurse\\nFacility: Denver VA\\nEHRModule: Pharmacy\\nCategory: Performance Issue\\nPriority: Low\\nStatus: In Progress\\nResolutionSummary: \\nBody: As a Nurse, it’s hard to work when the Pharmacy screen stalls every few clicks. Is there backend maintenance happening?\\n\\nTicketID: [0dd06ea2]\\nUserID: Ua3f6e391\\nUserRole: Nurse\\nFacility: Phoenix VA\\nEHRModule: Pharmacy\\nCategory: Performance Issue\\nPriority: Medium\\nStatus: Closed\\nResolutionSummary: Resolved per SOP.\\nBody: As a Nurse, it’s hard to work when the Pharmacy screen stalls every few clicks. Is there backend maintenance happening?', name='ehr_ticket_rag_retriever', id='7185a731-bc6b-487a-8adc-afe1399a4183', tool_call_id='4db3c67b-37bb-4214-a61a-4af03a6caeab'),\n",
       "  AIMessage(content='The pharmacy module in the EHR system is experiencing performance issues, causing the screen to stall with frequent clicks. This issue has been reported by nurses across multiple VA facilities, including Boston, Denver, and Phoenix. The specific cause is still under investigation, but the problem is described as a general performance degradation within the Pharmacy module.', additional_kwargs={}, response_metadata={'prompt_feedback': {'block_reason': 0, 'safety_ratings': []}, 'finish_reason': 'STOP', 'safety_ratings': []}, id='run--ae7c77df-43e8-4334-b1e1-e780b60033cf-0', usage_metadata={'input_tokens': 448, 'output_tokens': 64, 'total_tokens': 512, 'input_token_details': {'cache_read': 0}})]}"
      ]
     },
     "execution_count": 16,
     "metadata": {},
     "output_type": "execute_result"
    }
   ],
   "source": [
    "REACT_AGENT.invoke({\"messages\": [(\"user\", question)]})"
   ]
  }
 ],
 "metadata": {
  "kernelspec": {
   "display_name": "langchain-py312",
   "language": "python",
   "name": "python3"
  },
  "language_info": {
   "codemirror_mode": {
    "name": "ipython",
    "version": 3
   },
   "file_extension": ".py",
   "mimetype": "text/x-python",
   "name": "python",
   "nbconvert_exporter": "python",
   "pygments_lexer": "ipython3",
   "version": "3.12.11"
  }
 },
 "nbformat": 4,
 "nbformat_minor": 5
}
