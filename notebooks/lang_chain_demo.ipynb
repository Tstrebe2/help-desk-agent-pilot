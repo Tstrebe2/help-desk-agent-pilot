{
 "cells": [
  {
   "cell_type": "markdown",
   "id": "d52f8f7b",
   "metadata": {},
   "source": [
    "## Load Environment Variables"
   ]
  },
  {
   "cell_type": "code",
   "execution_count": 1,
   "id": "25258803",
   "metadata": {},
   "outputs": [],
   "source": [
    "from pathlib import Path\n",
    "from dotenv import load_dotenv\n",
    "\n",
    "dotenv_path = Path(\"../help-desk-agent-flask-app/.env\").resolve()\n",
    "_ = load_dotenv(dotenv_path=dotenv_path)"
   ]
  },
  {
   "cell_type": "markdown",
   "id": "c604f9ff",
   "metadata": {},
   "source": [
    "### Load Vector Store\n",
    "help-desk-agent-flask-app/retriever.py"
   ]
  },
  {
   "cell_type": "code",
   "execution_count": 2,
   "id": "04cdd54e",
   "metadata": {},
   "outputs": [],
   "source": [
    "from langchain_chroma import Chroma\n",
    "from langchain_google_genai import GoogleGenerativeAIEmbeddings\n",
    "from pathlib import Path\n",
    "\n",
    "_chroma_db_path = Path(\"../../datasets/help-desk-tickets/chroma_db\").resolve()\n",
    "\n",
    "def load_helpdesk_ticket_vector_store():\n",
    "    \"\"\"\n",
    "    Load a vector store for EHR support tickets using Chroma.\n",
    "    Raises an error if the directory does not exist.\n",
    "    \"\"\"\n",
    "    if not _chroma_db_path.exists():\n",
    "        raise FileNotFoundError(f\"Chroma DB directory not found: {_chroma_db_path}\")\n",
    "\n",
    "    vector_store = Chroma(\n",
    "        collection_name=\"helpdesk_tickets\",\n",
    "        embedding_function=GoogleGenerativeAIEmbeddings(model=\"models/embedding-001\"),\n",
    "        persist_directory=_chroma_db_path\n",
    "    )\n",
    "    return vector_store"
   ]
  },
  {
   "cell_type": "markdown",
   "id": "228b115e",
   "metadata": {},
   "source": [
    "### Create RAG Tool\n",
    "help-desk-agent-flask-app/rag_tool.py"
   ]
  },
  {
   "cell_type": "code",
   "execution_count": 3,
   "id": "ccc0e995",
   "metadata": {},
   "outputs": [],
   "source": [
    "from langchain_core.documents import Document\n",
    "from typing import List\n",
    "from langchain_core.prompts import PromptTemplate\n",
    "from langchain_google_genai import ChatGoogleGenerativeAI\n",
    "from langchain_core.runnables import RunnableLambda\n",
    "from langchain_core.output_parsers import StrOutputParser\n",
    "from langchain_core.tools import convert_runnable_to_tool\n",
    "from pydantic import BaseModel, Field\n",
    "\n",
    "_vector_store = load_helpdesk_ticket_vector_store()\n",
    "\n",
    "class RAGToolArgsSchema(BaseModel):\n",
    "    question: str = Field(\n",
    "        description=(\n",
    "            \"A natural language question about electronic health record (EHR) system \"\n",
    "            \"tickets or issues, such as 'What is causing pharmacy work stoppages?'\"\n",
    "        )\n",
    "    )\n",
    "\n",
    "def get_top_k_documents(query: str) -> List[Document]:\n",
    "    \"\"\"Retrieve the top-k documents based on the hyde query.\"\"\"\n",
    "    top_k_documents = _vector_store.similarity_search(query, k=3)\n",
    "    return top_k_documents\n",
    "\n",
    "def format_documents(documents: List[Document]) -> str:\n",
    "    \"\"\"\n",
    "    Format the retrieved documents into a json string for output\n",
    "    that includes the TicketID and content.\n",
    "    \"\"\"\n",
    "    docs = []\n",
    "\n",
    "    for doc in documents:\n",
    "        ticket_id = doc.metadata.get(\"TicketID\", \"UNKNOWN_ID\")\n",
    "        content = doc.page_content\n",
    "        docs.append(f\"TicketID: [{ticket_id}]\\n{content}\")\n",
    "    return '\\n\\n'.join(docs)\n",
    "\n",
    "def get_rag_tool():\n",
    "    \"\"\"\n",
    "    Create a RAG tool that uses the GoogleGenerativeAI model to generate responses\n",
    "    \"\"\"\n",
    "    llm = ChatGoogleGenerativeAI(model=\"gemini-2.5-flash-lite\", temperature=0.7)\n",
    "\n",
    "    hyde_template = (\n",
    "    \"Based on the question: {question} \"\n",
    "    \"Write a passage that could contain the answer to the question: \" \n",
    "    )\n",
    "    hyde_prompt = PromptTemplate(\n",
    "        input_variables=[\"question\"],\n",
    "        template=hyde_template\n",
    "    )\n",
    "\n",
    "    get_top_k_documents_rl = RunnableLambda(get_top_k_documents)\n",
    "    format_documents_rl = RunnableLambda(format_documents)\n",
    "\n",
    "    hyde_chain = hyde_prompt | llm | StrOutputParser()\n",
    "    retreival_chain = get_top_k_documents_rl | format_documents_rl | StrOutputParser()\n",
    "    rag_chain = hyde_chain | retreival_chain\n",
    "\n",
    "    rag_tool = convert_runnable_to_tool(\n",
    "        runnable=rag_chain,\n",
    "        name=\"ehr_ticket_rag_retriever\",\n",
    "        description=(\n",
    "            \"Useful for answering questions about EHR system issues using information extracted from support tickets. \"\n",
    "            \"Given a question, it generates a hypothesis passage, retrieves relevant tickets, and formats their contents.\"\n",
    "        ),\n",
    "        args_schema=RAGToolArgsSchema\n",
    "    )\n",
    "    return rag_tool"
   ]
  },
  {
   "cell_type": "markdown",
   "id": "1d6dbb54",
   "metadata": {},
   "source": [
    "#### Test rag_tool"
   ]
  },
  {
   "cell_type": "code",
   "execution_count": 4,
   "id": "aedf9cc1",
   "metadata": {},
   "outputs": [
    {
     "name": "stdout",
     "output_type": "stream",
     "text": [
      "Tool name: ehr_ticket_rag_retriever\n",
      "Tool description: Useful for answering questions about EHR system issues using information extracted from support tickets. Given a question, it generates a hypothesis passage, retrieves relevant tickets, and formats their contents.\n",
      "Tool schema: {'properties': {'question': {'description': \"A natural language question about electronic health record (EHR) system tickets or issues, such as 'What is causing pharmacy work stoppages?'\", 'title': 'Question', 'type': 'string'}}, 'required': ['question'], 'title': 'RAGToolArgsSchema', 'type': 'object'}\n"
     ]
    }
   ],
   "source": [
    "from langchain_core.tools import BaseTool\n",
    "rag_tool = get_rag_tool()\n",
    "assert isinstance(rag_tool, BaseTool)\n",
    "print(f\"Tool name: {rag_tool.name}\")\n",
    "print(f\"Tool description: {rag_tool.description}\")\n",
    "print(f\"Tool schema: {rag_tool.args_schema.model_json_schema()}\")"
   ]
  },
  {
   "cell_type": "code",
   "execution_count": 5,
   "id": "05cd9469",
   "metadata": {},
   "outputs": [
    {
     "name": "stdout",
     "output_type": "stream",
     "text": [
      "TicketID: [c27b6138]\n",
      "UserID: Uf61d0731\n",
      "UserRole: Nurse\n",
      "Facility: Boston VA\n",
      "EHRModule: Pharmacy\n",
      "Category: Performance Issue\n",
      "Priority: Medium\n",
      "Status: Open\n",
      "ResolutionSummary: \n",
      "Body: As a Nurse, it’s hard to work when the Pharmacy screen stalls every few clicks. Is there backend maintenance happening?\n",
      "\n",
      "TicketID: [0dd06ea2]\n",
      "UserID: Ua3f6e391\n",
      "UserRole: Nurse\n",
      "Facility: Phoenix VA\n",
      "EHRModule: Pharmacy\n",
      "Category: Performance Issue\n",
      "Priority: Medium\n",
      "Status: Closed\n",
      "ResolutionSummary: Resolved per SOP.\n",
      "Body: As a Nurse, it’s hard to work when the Pharmacy screen stalls every few clicks. Is there backend maintenance happening?\n",
      "\n",
      "TicketID: [48cf2892]\n",
      "UserID: Uc1b5e9b7\n",
      "UserRole: Nurse\n",
      "Facility: Denver VA\n",
      "EHRModule: Pharmacy\n",
      "Category: Performance Issue\n",
      "Priority: Low\n",
      "Status: In Progress\n",
      "ResolutionSummary: \n",
      "Body: As a Nurse, it’s hard to work when the Pharmacy screen stalls every few clicks. Is there backend maintenance happening?\n"
     ]
    }
   ],
   "source": [
    "\n",
    "question = \"Can you summarize what is causing some of the pharmacy work stoppage issues?\"\n",
    "\n",
    "documents = rag_tool.invoke({\"question\": question})\n",
    "print(documents)"
   ]
  },
  {
   "cell_type": "markdown",
   "id": "67da3c63",
   "metadata": {},
   "source": [
    "### Ticket Citation Tool"
   ]
  },
  {
   "cell_type": "code",
   "execution_count": 6,
   "id": "ebcf70ec",
   "metadata": {},
   "outputs": [],
   "source": [
    "from langchain_core.tools import tool\n",
    "from pydantic import BaseModel, Field\n",
    "\n",
    "class TicketCitationToolArgsSchema(BaseModel):\n",
    "    ticket_id: str = Field(\n",
    "        description=(\n",
    "            \"The TicketID for the ticket you would like to cite.\"\n",
    "        )\n",
    "    )\n",
    "\n",
    "@tool(args_schema=TicketCitationToolArgsSchema)\n",
    "def ticket_citation_tool(ticket_id: str) -> str:\n",
    "    \"\"\"\n",
    "    Tool to format a url reference to a ticket.\n",
    "    \"\"\"\n",
    "    return f'<a href=\"https://index/ticket_view?ticket-id={ticket_id}\">[{ticket_id}]</a>'"
   ]
  },
  {
   "cell_type": "markdown",
   "id": "7b8466f4",
   "metadata": {},
   "source": [
    "#### Ticket Citation Tool Test"
   ]
  },
  {
   "cell_type": "code",
   "execution_count": 7,
   "id": "ec2c4b80",
   "metadata": {},
   "outputs": [
    {
     "name": "stdout",
     "output_type": "stream",
     "text": [
      "Tool name: ticket_citation_tool\n",
      "Tool description: Tool to format a url reference to a ticket.\n",
      "Tool schema: {'properties': {'ticket_id': {'description': 'The TicketID for the ticket you would like to cite.', 'title': 'Ticket Id', 'type': 'string'}}, 'required': ['ticket_id'], 'title': 'TicketCitationToolArgsSchema', 'type': 'object'}\n"
     ]
    }
   ],
   "source": [
    "from langchain_core.tools import BaseTool\n",
    "\n",
    "assert isinstance(ticket_citation_tool, BaseTool)\n",
    "print(f\"Tool name: {ticket_citation_tool.name}\")\n",
    "print(f\"Tool description: {ticket_citation_tool.description}\")\n",
    "print(f\"Tool schema: {ticket_citation_tool.args_schema.model_json_schema()}\")"
   ]
  },
  {
   "cell_type": "code",
   "execution_count": 8,
   "id": "e4d56f7c",
   "metadata": {},
   "outputs": [
    {
     "data": {
      "text/plain": [
       "'<a href=\"https://index/ticket_view?ticket-id=12345\">[12345]</a>'"
      ]
     },
     "execution_count": 8,
     "metadata": {},
     "output_type": "execute_result"
    }
   ],
   "source": [
    "ticket_citation_tool.invoke({\"ticket_id\": \"12345\"})"
   ]
  },
  {
   "cell_type": "markdown",
   "id": "2c31fe8f",
   "metadata": {},
   "source": [
    "### ReACT Agent\n",
    "help-desk-agent-flask-app/agent.py"
   ]
  },
  {
   "cell_type": "code",
   "execution_count": null,
   "id": "677509b1",
   "metadata": {},
   "outputs": [],
   "source": [
    "from langgraph.prebuilt import create_react_agent\n",
    "from langgraph.checkpoint.memory import MemorySaver\n",
    "from langchain_google_genai import ChatGoogleGenerativeAI\n",
    "\n",
    "def create_agent_with_memory():\n",
    "    \"\"\"\n",
    "    Create a ReACT agent that uses the RAG tool for answering questions\n",
    "    about EHR support tickets.\n",
    "    \"\"\"\n",
    "    # Define the system prompt for the agent\n",
    "    system_prompt = (\n",
    "    \"You are a helpful assistant for the Department of Veterans Affairs (VA) employees. \"\n",
    "    \"Your job is to help answer VA employees with questions about issues related to the \"\n",
    "    \"electronic health record modernization (EHRM) enterprise rollout. Always use the ticket \"\n",
    "    \"citation tool to cite specific tickets that you used in your answer. Only use ticket information \"\n",
    "    \"gathered from tools to answer questions. If you do not have enough information, \"\n",
    "    \"let the user know that you need more details or to clarify the question.\"\n",
    "    )\n",
    "    llm = ChatGoogleGenerativeAI(model=\"gemini-2.5-flash-lite\", temperature=1.0)\n",
    "    rag_tool = get_rag_tool()\n",
    "    tools = [rag_tool, ticket_citation_tool]\n",
    "    memory = MemorySaver()\n",
    "    agent = create_react_agent(\n",
    "        model=llm, \n",
    "        tools=tools, \n",
    "        prompt=system_prompt,\n",
    "        checkpointer=memory,\n",
    "    )\n",
    "    return agent"
   ]
  },
  {
   "cell_type": "markdown",
   "id": "8deb3628",
   "metadata": {},
   "source": [
    "#### Test Agent"
   ]
  },
  {
   "cell_type": "code",
   "execution_count": null,
   "id": "13282034",
   "metadata": {},
   "outputs": [
    {
     "data": {
      "image/png": "[encoded data removed]",
      "text/plain": [
       "<IPython.core.display.Image object>"
      ]
     },
     "metadata": {},
     "output_type": "display_data"
    }
   ],
   "source": [
    "from IPython.display import Image, display\n",
    "\n",
    "_react_agent = create_agent_with_memory()\n",
    "display(Image(_react_agent.get_graph().draw_mermaid_png()))"
   ]
  },
  {
   "cell_type": "code",
   "execution_count": 11,
   "id": "ca4c28d7",
   "metadata": {},
   "outputs": [
    {
     "name": "stdout",
     "output_type": "stream",
     "text": [
      "================================\u001b[1m Human Message \u001b[0m=================================\n",
      "\n",
      "Can you help me understand the pharmacy work stoppage issues?\n",
      "==================================\u001b[1m Ai Message \u001b[0m==================================\n",
      "Tool Calls:\n",
      "  ehr_ticket_rag_retriever (8287421f-3331-470c-b673-bf1086ba4ba8)\n",
      " Call ID: 8287421f-3331-470c-b673-bf1086ba4ba8\n",
      "  Args:\n",
      "    question: What is causing pharmacy work stoppages?\n",
      "=================================\u001b[1m Tool Message \u001b[0m=================================\n",
      "Name: ehr_ticket_rag_retriever\n",
      "\n",
      "TicketID: [c27b6138]\n",
      "UserID: Uf61d0731\n",
      "UserRole: Nurse\n",
      "Facility: Boston VA\n",
      "EHRModule: Pharmacy\n",
      "Category: Performance Issue\n",
      "Priority: Medium\n",
      "Status: Open\n",
      "ResolutionSummary: \n",
      "Body: As a Nurse, it’s hard to work when the Pharmacy screen stalls every few clicks. Is there backend maintenance happening?\n",
      "\n",
      "TicketID: [48cf2892]\n",
      "UserID: Uc1b5e9b7\n",
      "UserRole: Nurse\n",
      "Facility: Denver VA\n",
      "EHRModule: Pharmacy\n",
      "Category: Performance Issue\n",
      "Priority: Low\n",
      "Status: In Progress\n",
      "ResolutionSummary: \n",
      "Body: As a Nurse, it’s hard to work when the Pharmacy screen stalls every few clicks. Is there backend maintenance happening?\n",
      "\n",
      "TicketID: [0dd06ea2]\n",
      "UserID: Ua3f6e391\n",
      "UserRole: Nurse\n",
      "Facility: Phoenix VA\n",
      "EHRModule: Pharmacy\n",
      "Category: Performance Issue\n",
      "Priority: Medium\n",
      "Status: Closed\n",
      "ResolutionSummary: Resolved per SOP.\n",
      "Body: As a Nurse, it’s hard to work when the Pharmacy screen stalls every few clicks. Is there backend maintenance happening?\n",
      "==================================\u001b[1m Ai Message \u001b[0m==================================\n",
      "\n",
      "Pharmacy work stoppage issues have been reported by users in Boston, Denver, and Phoenix. The primary concern is that the Pharmacy screen stalls with every few clicks, impacting the ability to work. The cause is currently unknown, and one ticket indicates it may be related to backend maintenance. The status of these tickets varies, with one marked as closed after resolution per SOP, while others are still open or in progress.\n",
      "Tool Calls:\n",
      "  ticket_citation_tool (4da1f3a2-9749-495f-8419-63f1afd78c62)\n",
      " Call ID: 4da1f3a2-9749-495f-8419-63f1afd78c62\n",
      "  Args:\n",
      "    ticket_id: c27b6138\n",
      "  ticket_citation_tool (3df13c32-68f9-45a7-9f49-9cb5aac2b0b8)\n",
      " Call ID: 3df13c32-68f9-45a7-9f49-9cb5aac2b0b8\n",
      "  Args:\n",
      "    ticket_id: 48cf2892\n",
      "  ticket_citation_tool (8df85b85-b0b1-46df-8166-409b00588e3b)\n",
      " Call ID: 8df85b85-b0b1-46df-8166-409b00588e3b\n",
      "  Args:\n",
      "    ticket_id: 0dd06ea2\n",
      "=================================\u001b[1m Tool Message \u001b[0m=================================\n",
      "Name: ticket_citation_tool\n",
      "\n",
      "<a href=\"https://index/ticket_view?ticket-id=0dd06ea2\">[0dd06ea2]</a>\n",
      "==================================\u001b[1m Ai Message \u001b[0m==================================\n",
      "\n",
      "The pharmacy work stoppage issues appear to be related to performance problems with the Pharmacy module, where the screen stalls frequently. Users have reported this issue across multiple facilities, including Boston VA, Denver VA, and Phoenix VA. The cause is not explicitly stated in the provided tickets, but it is being investigated as a performance issue. One ticket mentions a resolution of \\\"Resolved per SOP,\\\" but it's unclear what specific actions were taken.\n",
      "Tool Calls:\n",
      "  ehr_ticket_rag_retriever (d1cb5caf-d4ee-4fd8-91e1-b80fa48916b7)\n",
      " Call ID: d1cb5caf-d4ee-4fd8-91e1-b80fa48916b7\n",
      "  Args:\n",
      "    question: What actions were taken to resolve the pharmacy work stoppage issues?\n",
      "=================================\u001b[1m Tool Message \u001b[0m=================================\n",
      "Name: ehr_ticket_rag_retriever\n",
      "\n",
      "TicketID: [211c9eb4]\n",
      "UserID: U150d26da\n",
      "UserRole: Physician\n",
      "Facility: Richmond VAMC\n",
      "EHRModule: Pharmacy\n",
      "Category: Training Request\n",
      "Priority: Critical\n",
      "Status: Closed\n",
      "ResolutionSummary: Resolved per SOP.\n",
      "Body: We’d like a walkthrough on the Pharmacy update. Many of us aren’t sure how to handle the changes in lab result entries.\n",
      "\n",
      "TicketID: [c27b6138]\n",
      "UserID: Uf61d0731\n",
      "UserRole: Nurse\n",
      "Facility: Boston VA\n",
      "EHRModule: Pharmacy\n",
      "Category: Performance Issue\n",
      "Priority: Medium\n",
      "Status: Open\n",
      "ResolutionSummary: \n",
      "Body: As a Nurse, it’s hard to work when the Pharmacy screen stalls every few clicks. Is there backend maintenance happening?\n",
      "\n",
      "TicketID: [ca96fa35]\n",
      "UserID: U1d42585b\n",
      "UserRole: Nurse\n",
      "Facility: Houston VA\n",
      "EHRModule: Pharmacy\n",
      "Category: Training Request\n",
      "Priority: Low\n",
      "Status: Closed\n",
      "ResolutionSummary: Resolved per SOP.\n",
      "Body: We’d like a walkthrough on the Pharmacy update. Many of us aren’t sure how to handle the changes in lab result entries.\n",
      "==================================\u001b[1m Ai Message \u001b[0m==================================\n",
      "Tool Calls:\n",
      "  ticket_citation_tool (e9aff03f-b06d-4402-8b1c-788d02874267)\n",
      " Call ID: e9aff03f-b06d-4402-8b1c-788d02874267\n",
      "  Args:\n",
      "    ticket_id: 211c9eb4\n",
      "  ticket_citation_tool (1a3eee3c-54e5-40c6-9142-083915f31a10)\n",
      " Call ID: 1a3eee3c-54e5-40c6-9142-083915f31a10\n",
      "  Args:\n",
      "    ticket_id: ca96fa35\n",
      "=================================\u001b[1m Tool Message \u001b[0m=================================\n",
      "Name: ticket_citation_tool\n",
      "\n",
      "<a href=\"https://index/ticket_view?ticket-id=ca96fa35\">[ca96fa35]</a>\n",
      "==================================\u001b[1m Ai Message \u001b[0m==================================\n",
      "\n",
      "The pharmacy work stoppage issues appear to be related to performance problems, specifically the Pharmacy screen stalling frequently. This has been reported by users in facilities like Boston VA, Denver VA, and Phoenix VA <a href=\"https://index/ticket_view?ticket-id=c27b6138\">[c27b6138]</a><a href=\"https://index/ticket_view?ticket-id=48cf2892\">[48cf2892]</a><a href=\"https://index/ticket_view?ticket-id=0dd06ea2\">[0dd06ea2]</a>.\n",
      "\n",
      "In terms of resolution, some tickets indicate that issues were resolved following standard operating procedures (SOP) <a href=\"https://index/ticket_view?ticket-id=0dd06ea2\">[0dd06ea2]</a>. Additionally, there are tickets related to training requests for Pharmacy updates, suggesting that enhanced user guidance may also be part of the solution <a href=\"https://index/ticket_view?ticket-id=211c9eb4\">[211c9eb4]</a><a href=\"https://index/ticket_view?ticket-id=ca96fa35\">[ca96fa35]</a>.\n"
     ]
    }
   ],
   "source": [
    "config = {\"configurable\": {\"thread_id\": \"tim-session-1\"}}\n",
    "\n",
    "input_message = (\n",
    "    \"Can you help me understand the pharmacy work stoppage issues?\"\n",
    ")\n",
    "\n",
    "for event in _react_agent.stream(\n",
    "    {\"messages\": [{\"role\": \"user\", \"content\": input_message}]},\n",
    "    stream_mode=\"values\",\n",
    "    config=config,\n",
    "):\n",
    "    event['messages'][-1].pretty_print()"
   ]
  },
  {
   "cell_type": "markdown",
   "id": "9b6446f3",
   "metadata": {},
   "source": [
    "### Environment & Dependencies"
   ]
  },
  {
   "cell_type": "code",
   "execution_count": 12,
   "id": "40694608",
   "metadata": {},
   "outputs": [
    {
     "name": "stdout",
     "output_type": "stream",
     "text": [
      "Author: Tim Strebel\n",
      "\n",
      "Last updated: 2025-08-04\n",
      "\n",
      "Python implementation: CPython\n",
      "Python version       : 3.12.11\n",
      "IPython version      : 9.1.0\n",
      "\n",
      "langchain_chroma      : 0.2.5\n",
      "pydantic              : 2.11.7\n",
      "IPython               : 9.1.0\n",
      "langchain_core        : 0.3.72\n",
      "langgraph             : 0.6.2\n",
      "langchain_google_genai: 2.0.10\n",
      "\n"
     ]
    }
   ],
   "source": [
    "%load_ext watermark\n",
    "%watermark -a \"Tim Strebel\" -d -u -v --iversions"
   ]
  }
 ],
 "metadata": {
  "kernelspec": {
   "display_name": "langchain-py312",
   "language": "python",
   "name": "python3"
  },
  "language_info": {
   "codemirror_mode": {
    "name": "ipython",
    "version": 3
   },
   "file_extension": ".py",
   "mimetype": "text/x-python",
   "name": "python",
   "nbconvert_exporter": "python",
   "pygments_lexer": "ipython3",
   "version": "3.12.11"
  }
 },
 "nbformat": 4,
 "nbformat_minor": 5
}
