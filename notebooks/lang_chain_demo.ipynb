{
 "cells": [
  {
   "cell_type": "markdown",
   "id": "d52f8f7b",
   "metadata": {},
   "source": [
    "## Load Environment Variables"
   ]
  },
  {
   "cell_type": "code",
   "execution_count": 1,
   "id": "25258803",
   "metadata": {},
   "outputs": [
    {
     "data": {
      "text/plain": [
       "True"
      ]
     },
     "execution_count": 1,
     "metadata": {},
     "output_type": "execute_result"
    }
   ],
   "source": [
    "from pathlib import Path\n",
    "from dotenv import load_dotenv\n",
    "\n",
    "dotenv_path = Path(\"../help-desk-agent-flask-app/.env\").resolve()\n",
    "load_dotenv(dotenv_path=dotenv_path)"
   ]
  },
  {
   "cell_type": "markdown",
   "id": "c604f9ff",
   "metadata": {},
   "source": [
    "### Load Vector Store\n",
    "help-desk-agent-flask-app/retriever.py"
   ]
  },
  {
   "cell_type": "code",
   "execution_count": 2,
   "id": "04cdd54e",
   "metadata": {},
   "outputs": [],
   "source": [
    "from langchain_chroma import Chroma\n",
    "from langchain_google_genai import GoogleGenerativeAIEmbeddings\n",
    "from pathlib import Path\n",
    "\n",
    "CHROMA_DB_PATH = Path(\"../../datasets/help-desk-tickets/chroma_db\").resolve()\n",
    "\n",
    "# Loads the vector store from the specified directory if it already exists\n",
    "VECTOR_STORE = Chroma(\n",
    "    collection_name=\"helpdesk_tickets\",\n",
    "    embedding_function=GoogleGenerativeAIEmbeddings(model=\"models/embedding-001\"),\n",
    "    persist_directory=\"../../datasets/help-desk-tickets/chroma_db\"\n",
    ")"
   ]
  },
  {
   "cell_type": "markdown",
   "id": "228b115e",
   "metadata": {},
   "source": [
    "### Create RAG Tool\n",
    "help-desk-agent-flask-app/rag_tool.py"
   ]
  },
  {
   "cell_type": "code",
   "execution_count": 3,
   "id": "ccc0e995",
   "metadata": {},
   "outputs": [],
   "source": [
    "from langchain_core.prompts import PromptTemplate\n",
    "from langchain_google_genai import ChatGoogleGenerativeAI\n",
    "from langchain_core.runnables import RunnableLambda\n",
    "from langchain_core.output_parsers import StrOutputParser\n",
    "from langchain_core.tools import convert_runnable_to_tool\n",
    "from pydantic import BaseModel, Field\n",
    "\n",
    "class InputSchema(BaseModel):\n",
    "    question: str = Field(\n",
    "        description=(\n",
    "            \"A natural language question about electronic health record (EHR) system \"\n",
    "            \"tickets or issues, such as 'What is causing pharmacy work stoppages?'\"\n",
    "        )\n",
    "    )\n",
    "\n",
    "def get_top_k_documents(query: str):\n",
    "    \"\"\"Retrieve the top-k documents based on the hyde query.\"\"\"\n",
    "    top_k_documents = VECTOR_STORE.similarity_search(query, k=3)\n",
    "    return top_k_documents\n",
    "\n",
    "def format_documents(documents):\n",
    "    \"\"\"\n",
    "    Format retrieved docs so that each begins with [TicketID],\n",
    "    followed by EHR fields like Facility, EHRModule, etc.\n",
    "    Ensures that TicketID is exposed in exactly bracketed form.\n",
    "    \"\"\"\n",
    "    formatted = []\n",
    "    for doc in documents:\n",
    "        tid = doc.metadata.get(\"TicketID\", \"UNKNOWN_ID\")\n",
    "        content = doc.page_content\n",
    "        formatted.append(f\"TicketID: [{tid}]\\n{content}\")\n",
    "    return \"\\n\\n\".join(formatted)\n",
    "\n",
    "def get_rag_tool():\n",
    "    \"\"\"\n",
    "    Create a RAG tool that uses the GoogleGenerativeAI model to generate responses\n",
    "    \"\"\"\n",
    "    llm = ChatGoogleGenerativeAI(model=\"gemini-2.5-flash-lite\", temperature=0.7)\n",
    "\n",
    "    hyde_template = (\n",
    "    \"Based on the question: {question} \"\n",
    "    \"Write a passage that could contain the answer to the question: \" \n",
    "    )\n",
    "    hyde_prompt = PromptTemplate(\n",
    "        input_variables=[\"question\"],\n",
    "        template=hyde_template\n",
    "    )\n",
    "\n",
    "    get_top_k_documents_rl = RunnableLambda(get_top_k_documents)\n",
    "    format_documents_rl = RunnableLambda(format_documents)\n",
    "\n",
    "    hyde_chain = hyde_prompt | llm | StrOutputParser()\n",
    "    retreival_chain = get_top_k_documents_rl | format_documents_rl | StrOutputParser()\n",
    "    rag_chain = hyde_chain | retreival_chain\n",
    "\n",
    "    rag_tool = convert_runnable_to_tool(\n",
    "        runnable=rag_chain,\n",
    "        name=\"ehr_ticket_rag_retriever\",\n",
    "        description=(\n",
    "            \"Useful for answering questions about EHR system issues using information extracted from support tickets. \"\n",
    "            \"Given a question, it generates a hypothesis passage, retrieves relevant tickets, and formats their contents.\"\n",
    "        ),\n",
    "        args_schema=InputSchema\n",
    "    )\n",
    "    return rag_tool"
   ]
  },
  {
   "cell_type": "markdown",
   "id": "1d6dbb54",
   "metadata": {},
   "source": [
    "#### Test rag_tool"
   ]
  },
  {
   "cell_type": "code",
   "execution_count": 4,
   "id": "aedf9cc1",
   "metadata": {},
   "outputs": [
    {
     "name": "stdout",
     "output_type": "stream",
     "text": [
      "Tool name: ehr_ticket_rag_retriever\n",
      "Tool name: Useful for answering questions about EHR system issues using information extracted from support tickets. Given a question, it generates a hypothesis passage, retrieves relevant tickets, and formats their contents.\n",
      "Tool schema: {'properties': {'question': {'description': \"A natural language question about electronic health record (EHR) system tickets or issues, such as 'What is causing pharmacy work stoppages?'\", 'title': 'Question', 'type': 'string'}}, 'required': ['question'], 'title': 'InputSchema', 'type': 'object'}\n"
     ]
    }
   ],
   "source": [
    "from langchain_core.tools import BaseTool\n",
    "rag_tool = get_rag_tool()\n",
    "assert isinstance(rag_tool, BaseTool)\n",
    "print(f\"Tool name: {rag_tool.name}\")\n",
    "print(f\"Tool name: {rag_tool.description}\")\n",
    "print(f\"Tool schema: {rag_tool.args_schema.model_json_schema()}\")"
   ]
  },
  {
   "cell_type": "code",
   "execution_count": 5,
   "id": "05cd9469",
   "metadata": {},
   "outputs": [],
   "source": [
    "# question = \"Can you summarize what is causing some of the pharmacy work stoppage issues?\"\n",
    "\n",
    "# response = rag_tool.invoke({\"question\": question})\n",
    "# print(\"Response:\\n\", response)"
   ]
  },
  {
   "cell_type": "markdown",
   "id": "2c31fe8f",
   "metadata": {},
   "source": [
    "### ReACT Agent\n",
    "help-desk-agent-flask-app/agent.py"
   ]
  },
  {
   "cell_type": "code",
   "execution_count": 6,
   "id": "677509b1",
   "metadata": {},
   "outputs": [],
   "source": [
    "from langgraph.prebuilt import create_react_agent\n",
    "from langgraph.checkpoint.memory import MemorySaver\n",
    "from langchain_google_genai import ChatGoogleGenerativeAI\n",
    "\n",
    "def create_agent_with_memory():\n",
    "    \"\"\"\n",
    "    Create a ReACT agent that uses the RAG tool for answering questions\n",
    "    about EHR support tickets.\n",
    "    \"\"\"\n",
    "    # Define the system prompt for the agent\n",
    "    system_prompt = \"\"\"\n",
    "    You are a support assistant for EHR support tickets. Tools retrieve actual ticket records, and Ticket IDs are shown in square brackets — e.g. [c27b6138].\n",
    "\n",
    "    When answering a user's question:\n",
    "    - Summarize the explanation using Ticket IDs only in square brackets, never full metadata dump.\n",
    "    - For example: “The issue appears in [c27b6138], [48cf2892], [0dd06ea2] — it's related to delays in the Pharmacy module…”\n",
    "    - Always include at least one bracketed TicketID if relevant.\n",
    "    - If no ticket matches, say “I couldn't find any relevant ticket for that question.”\n",
    "\n",
    "    - Provide answers that are strictly based on ticket data. Do NOT hallucinate Ticket IDs.\n",
    "    \"\"\"\n",
    "    llm = ChatGoogleGenerativeAI(model=\"gemini-2.5-flash-lite\", temperature=1.0)\n",
    "    rag_tool = get_rag_tool()\n",
    "    tools = [rag_tool]\n",
    "    memory = MemorySaver()\n",
    "    agent = create_react_agent(\n",
    "        model=llm, \n",
    "        tools=tools, \n",
    "        state_modifier=system_prompt,\n",
    "        checkpointer=memory,\n",
    "    )\n",
    "    return agent\n",
    "\n",
    "REACT_AGENT = create_agent_with_memory()"
   ]
  },
  {
   "cell_type": "code",
   "execution_count": 7,
   "id": "13282034",
   "metadata": {},
   "outputs": [
    {
     "data": {
      "image/png": "[encoded data removed]",
      "text/plain": [
       "<IPython.core.display.Image object>"
      ]
     },
     "metadata": {},
     "output_type": "display_data"
    }
   ],
   "source": [
    "from IPython.display import Image, display\n",
    "\n",
    "display(Image(REACT_AGENT.get_graph().draw_mermaid_png()))"
   ]
  },
  {
   "cell_type": "markdown",
   "id": "213cac2c",
   "metadata": {},
   "source": [
    "## Memory Mechanism"
   ]
  },
  {
   "cell_type": "code",
   "execution_count": 8,
   "id": "36096b9d",
   "metadata": {},
   "outputs": [
    {
     "name": "stderr",
     "output_type": "stream",
     "text": [
      "C:\\Users\\Tstre\\AppData\\Local\\Temp\\ipykernel_22940\\1448044083.py:3: LangChainDeprecationWarning: Please see the migration guide at: https://python.langchain.com/docs/versions/migrating_memory/\n",
      "  memory = ConversationBufferMemory(return_messages=True)\n"
     ]
    }
   ],
   "source": [
    "from langchain.memory import ConversationBufferMemory\n",
    "\n",
    "memory = ConversationBufferMemory(return_messages=True)"
   ]
  },
  {
   "cell_type": "code",
   "execution_count": 17,
   "id": "ca4c28d7",
   "metadata": {},
   "outputs": [
    {
     "data": {
      "text/plain": [
       "'The previous conversation showed that your name is Tim.'"
      ]
     },
     "execution_count": 17,
     "metadata": {},
     "output_type": "execute_result"
    }
   ],
   "source": [
    "config = {\"configurable\": {\"thread_id\": \"tim-session-1\"}}\n",
    "\n",
    "input_message = (\n",
    "    \"How do you know what my name is?\"\n",
    ")\n",
    "\n",
    "events = REACT_AGENT.stream(\n",
    "    {\"messages\": [{\"role\": \"user\", \"content\": input_message}]},\n",
    "    stream_mode=\"values\",\n",
    "    config=config,\n",
    ")\n",
    "\n",
    "for event in events:\n",
    "    pass\n",
    "\n",
    "event['messages'][-1].content"
   ]
  },
  {
   "cell_type": "code",
   "execution_count": null,
   "id": "3628c25e",
   "metadata": {},
   "outputs": [],
   "source": []
  },
  {
   "cell_type": "code",
   "execution_count": null,
   "id": "36729956",
   "metadata": {},
   "outputs": [
    {
     "data": {
      "text/plain": [
       "'The pharmacy system experiences intermittent stalling, making it difficult for nurses to perform their duties. The exact cause is still under investigation, as indicated by the open and in-progress tickets. One ticket suggests backend maintenance as a possible cause, while another, already closed, simply states the issue was resolved per standard operating procedure.'"
      ]
     },
     "execution_count": 12,
     "metadata": {},
     "output_type": "execute_result"
    }
   ],
   "source": []
  }
 ],
 "metadata": {
  "kernelspec": {
   "display_name": "langchain-py312",
   "language": "python",
   "name": "python3"
  },
  "language_info": {
   "codemirror_mode": {
    "name": "ipython",
    "version": 3
   },
   "file_extension": ".py",
   "mimetype": "text/x-python",
   "name": "python",
   "nbconvert_exporter": "python",
   "pygments_lexer": "ipython3",
   "version": "3.12.11"
  }
 },
 "nbformat": 4,
 "nbformat_minor": 5
}
