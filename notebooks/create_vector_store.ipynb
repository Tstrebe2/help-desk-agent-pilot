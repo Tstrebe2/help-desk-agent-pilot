{
 "cells": [
  {
   "cell_type": "code",
   "execution_count": null,
   "id": "ed656f8c",
   "metadata": {},
   "outputs": [],
   "source": [
    "from pathlib import Path\n",
    "from dotenv import load_dotenv\n",
    "\n",
    "dotenv_path = Path(\"../help-desk-agent-flask-app/.env\").resolve()\n",
    "load_dotenv(dotenv_path=dotenv_path)"
   ]
  },
  {
   "cell_type": "markdown",
   "id": "72dc75c9",
   "metadata": {},
   "source": [
    "### Load Documents"
   ]
  },
  {
   "cell_type": "code",
   "execution_count": null,
   "id": "547c9c2d",
   "metadata": {},
   "outputs": [],
   "source": [
    "file_path = Path(\"../../datasets/help-desk-tickets/va_helpdesk_tickets_sample_realistic.csv\").resolve()\n",
    "\n",
    "from langchain_community.document_loaders import CSVLoader\n",
    "\n",
    "loader = CSVLoader(\n",
    "    file_path=file_path, \n",
    "    encoding=\"utf-8\",\n",
    "    metadata_columns=[\n",
    "        \"TicketID\", \"CreatedAt\", \"ClosedAt\"\n",
    "    ],\n",
    "    \n",
    ")\n",
    "\n",
    "documents = loader.load()\n",
    "\n",
    "print(\"There are {} documents\".format(len(documents)))\n",
    "documents[:5]"
   ]
  },
  {
   "cell_type": "markdown",
   "id": "a8fe9280",
   "metadata": {},
   "source": [
    "## Create Vector Store"
   ]
  },
  {
   "cell_type": "code",
   "execution_count": null,
   "id": "3d91a61c",
   "metadata": {},
   "outputs": [],
   "source": [
    "from langchain_chroma import Chroma\n",
    "from langchain_google_genai import GoogleGenerativeAIEmbeddings\n",
    "\n",
    "# Loads the vector store from the specified directory if it already exists\n",
    "VECTOR_STORE = Chroma(\n",
    "    collection_name=\"helpdesk_tickets\",\n",
    "    embedding_function=GoogleGenerativeAIEmbeddings(model=\"models/embedding-001\"),\n",
    "    persist_directory=\"../../datasets/help-desk-tickets/chroma_db\"\n",
    ")\n",
    "# Initial run: build and persist\n",
    "# Uncomment the next line to add new documents and persist the vector store\n",
    "# _ = VECTOR_STORE.add_documents(documents)"
   ]
  }
 ],
 "metadata": {
  "language_info": {
   "name": "python"
  }
 },
 "nbformat": 4,
 "nbformat_minor": 5
}
